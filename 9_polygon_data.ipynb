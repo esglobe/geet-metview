{
 "cells": [
  {
   "cell_type": "markdown",
   "metadata": {},
   "source": [
    "## Generación base polígono Cerro Saroche\n",
    "\n",
    "**PROYECTO:** SISTEMA PARA EL SEGUIMIENTO DE ECOSISTEMAS VENEZOLANOS \\\n",
    "**AUTOR:** Javier Martinez"
   ]
  },
  {
   "cell_type": "code",
   "execution_count": 1,
   "metadata": {},
   "outputs": [],
   "source": [
    "import geopandas\n",
    "import json"
   ]
  },
  {
   "cell_type": "markdown",
   "metadata": {},
   "source": [
    "### Polígonos"
   ]
  },
  {
   "cell_type": "code",
   "execution_count": 2,
   "metadata": {},
   "outputs": [],
   "source": [
    "park_name = 'cerro_saroche' \n",
    "\n",
    "park_poligono = geopandas.read_file(f'./{park_name}/poligono_cerro_saroche/cerro_saroche.shp')\n",
    "parque_rectangulo = geopandas.read_file(f'./{park_name}//poligono_cerro_saroche/rectangulo_cerro_saroche.shp')"
   ]
  },
  {
   "cell_type": "code",
   "execution_count": 3,
   "metadata": {},
   "outputs": [],
   "source": [
    "doc_park = json.loads( park_poligono.to_json() )\n",
    "doc_rectangulo = json.loads( parque_rectangulo.to_json() )"
   ]
  },
  {
   "cell_type": "code",
   "execution_count": 4,
   "metadata": {},
   "outputs": [],
   "source": [
    "documento = {'park':park_name,\n",
    "            'polygons':{'polygon':doc_park,\n",
    "                        'rectangle':doc_rectangulo\n",
    "                        }}"
   ]
  },
  {
   "cell_type": "markdown",
   "metadata": {},
   "source": [
    "### Conexión MONGODB"
   ]
  },
  {
   "cell_type": "code",
   "execution_count": 6,
   "metadata": {},
   "outputs": [],
   "source": [
    "# Configuracion\n",
    "import yaml\n",
    "\n",
    "# Definiendo variables\n",
    "with open('./config.yml') as stream:\n",
    "    config = yaml.safe_load(stream)"
   ]
  },
  {
   "cell_type": "code",
   "execution_count": 11,
   "metadata": {},
   "outputs": [],
   "source": [
    "import pymongo\n",
    "\n",
    "username = config['MONGO_USER']\n",
    "password = config['MONGO_PASSWORD']\n",
    "cluster = config['MONGO_CLUSTER']\n",
    "\n",
    "conn_str = f\"mongodb+srv://{username}:{password}@{cluster}.wsg1gnp.mongodb.net/?retryWrites=true&w=majority\"\n",
    "client = pymongo.MongoClient(conn_str, serverSelectionTimeoutMS=5000)"
   ]
  },
  {
   "cell_type": "code",
   "execution_count": 8,
   "metadata": {},
   "outputs": [
    {
     "data": {
      "text/plain": [
       "'SSEV'"
      ]
     },
     "execution_count": 8,
     "metadata": {},
     "output_type": "execute_result"
    }
   ],
   "source": [
    "# Creando base de datos\n",
    "db = client['SSEV']\n",
    "db.name"
   ]
  },
  {
   "cell_type": "code",
   "execution_count": 9,
   "metadata": {},
   "outputs": [],
   "source": [
    "# insertando coleccion\n",
    "coleccion = db['polygons']"
   ]
  },
  {
   "cell_type": "code",
   "execution_count": 10,
   "metadata": {},
   "outputs": [
    {
     "data": {
      "text/plain": [
       "<pymongo.results.UpdateResult at 0x7fd426153130>"
      ]
     },
     "execution_count": 10,
     "metadata": {},
     "output_type": "execute_result"
    }
   ],
   "source": [
    "# Insertando documentos\n",
    "coleccion.update_one({\"park\":documento.get('park') }, {\"$set\":documento}, upsert = True )"
   ]
  }
 ],
 "metadata": {
  "kernelspec": {
   "display_name": "Python 3.9.12 (conda)",
   "language": "python",
   "name": "python3"
  },
  "language_info": {
   "codemirror_mode": {
    "name": "ipython",
    "version": 3
   },
   "file_extension": ".py",
   "mimetype": "text/x-python",
   "name": "python",
   "nbconvert_exporter": "python",
   "pygments_lexer": "ipython3",
   "version": "3.9.12"
  },
  "orig_nbformat": 4,
  "vscode": {
   "interpreter": {
    "hash": "6ef255e721dd64fdf6eaf70896ff004f72b4db06f2d8b224a9360363362e21e5"
   }
  }
 },
 "nbformat": 4,
 "nbformat_minor": 2
}
