{
 "cells": [
  {
   "cell_type": "markdown",
   "metadata": {},
   "source": [
    "## Selección del Área para Venezuela\n",
    "\n",
    "**PROYECTO:** SISTEMA PARA EL SEGUIMIENTO DE ECOSISTEMAS VENEZOLANOS \\\n",
    "**AUTOR:** Javier Martinez"
   ]
  },
  {
   "cell_type": "code",
   "execution_count": 1,
   "metadata": {},
   "outputs": [],
   "source": [
    "import os\n",
    "\n",
    "import rioxarray \n",
    "import xarray\n",
    "from shapely.geometry import (Polygon, mapping)\n",
    "import geopandas\n",
    "\n",
    "import pandas as pd\n",
    "from datetime import datetime\n",
    "import numpy as np\n",
    "\n",
    "import matplotlib.pyplot as plt\n",
    "import matplotlib.pylab as pylab"
   ]
  },
  {
   "cell_type": "markdown",
   "metadata": {},
   "source": [
    "Directorio de trabajo"
   ]
  },
  {
   "cell_type": "code",
   "execution_count": 2,
   "metadata": {},
   "outputs": [
    {
     "name": "stdout",
     "output_type": "stream",
     "text": [
      "> Directorio actual:  /media/javier/Compartida/doctorado/gee-metview/venezuela/code\n",
      "> Directorio actual:  /media/javier/Compartida/doctorado/gee-metview/venezuela\n"
     ]
    }
   ],
   "source": [
    "print('> Directorio actual: ', os.getcwd())  \n",
    "os.chdir('../')\n",
    "print('> Directorio actual: ', os.getcwd()) "
   ]
  },
  {
   "cell_type": "code",
   "execution_count": 3,
   "metadata": {},
   "outputs": [],
   "source": [
    "import warnings\n",
    "warnings.filterwarnings('ignore')"
   ]
  },
  {
   "cell_type": "markdown",
   "metadata": {},
   "source": [
    "#### Creando Objeto Geopandas\n",
    "\n",
    "* Utilización de Geopandas para crear el polígono."
   ]
  },
  {
   "cell_type": "code",
   "execution_count": 4,
   "metadata": {},
   "outputs": [
    {
     "data": {
      "text/plain": [
       "<Geographic 2D CRS: EPSG:4326>\n",
       "Name: WGS 84\n",
       "Axis Info [ellipsoidal]:\n",
       "- Lat[north]: Geodetic latitude (degree)\n",
       "- Lon[east]: Geodetic longitude (degree)\n",
       "Area of Use:\n",
       "- name: World.\n",
       "- bounds: (-180.0, -90.0, 180.0, 90.0)\n",
       "Datum: World Geodetic System 1984 ensemble\n",
       "- Ellipsoid: WGS 84\n",
       "- Prime Meridian: Greenwich"
      ]
     },
     "execution_count": 4,
     "metadata": {},
     "output_type": "execute_result"
    }
   ],
   "source": [
    "import json\n",
    "import geopandas\n",
    "import topojson\n",
    "\n",
    "f_open = open('./polygons/venezuela_country.json')\n",
    "venezuela_topojson = json.loads(f_open.read())\n",
    "f_open.close()\n",
    "\n",
    "venezuela_geojson = topojson.Topology(venezuela_topojson, object_name=\"VEN_adm1\").to_geojson()\n",
    "venezuela_geopandas = geopandas.read_file(venezuela_geojson)\n",
    "venezuela_geopandas.crs"
   ]
  },
  {
   "cell_type": "markdown",
   "metadata": {},
   "source": [
    "#### Proyección precipitación\n",
    "\n",
    "* Aplicando proyección de la precipitación."
   ]
  },
  {
   "cell_type": "code",
   "execution_count": 5,
   "metadata": {},
   "outputs": [
    {
     "data": {
      "text/plain": [
       "<Geographic 2D CRS: GEOGCS[\"Coordinate System imported from GRIB file\" ...>\n",
       "Name: Coordinate System imported from GRIB file\n",
       "Axis Info [ellipsoidal]:\n",
       "- lat[north]: Latitude (degree)\n",
       "- lon[east]: Longitude (degree)\n",
       "Area of Use:\n",
       "- undefined\n",
       "Datum: unnamed\n",
       "- Ellipsoid: Sphere\n",
       "- Prime Meridian: Greenwich"
      ]
     },
     "execution_count": 5,
     "metadata": {},
     "output_type": "execute_result"
    }
   ],
   "source": [
    "from pyproj.crs import CRS\n",
    "\n",
    "precipitacion_crs = CRS.from_wkt('GEOGCS[\"Coordinate System imported from GRIB file\",DATUM[\"unnamed\",SPHEROID[\"Sphere\",6367470,0]],PRIMEM[\"Greenwich\",0],UNIT[\"degree\",0.0174532925199433,AUTHORITY[\"EPSG\",\"9122\"]],AXIS[\"Latitude\",NORTH],AXIS[\"Longitude\",EAST]]')\n",
    "\n",
    "venezuela_poligonos = venezuela_geopandas.to_crs(precipitacion_crs)\n",
    "venezuela_poligonos.crs"
   ]
  },
  {
   "cell_type": "code",
   "execution_count": 6,
   "metadata": {},
   "outputs": [],
   "source": [
    "# guardando poligono\n",
    "venezuela_poligonos.to_file(\"./polygons/venezuela.shp\")"
   ]
  }
 ],
 "metadata": {
  "kernelspec": {
   "display_name": "Python 3.9.12 64-bit",
   "language": "python",
   "name": "python3"
  },
  "language_info": {
   "codemirror_mode": {
    "name": "ipython",
    "version": 3
   },
   "file_extension": ".py",
   "mimetype": "text/x-python",
   "name": "python",
   "nbconvert_exporter": "python",
   "pygments_lexer": "ipython3",
   "version": "3.9.12"
  },
  "vscode": {
   "interpreter": {
    "hash": "6ef255e721dd64fdf6eaf70896ff004f72b4db06f2d8b224a9360363362e21e5"
   }
  }
 },
 "nbformat": 4,
 "nbformat_minor": 2
}
