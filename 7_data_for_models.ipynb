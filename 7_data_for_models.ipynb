{
 "cells": [
  {
   "cell_type": "code",
   "execution_count": null,
   "metadata": {},
   "outputs": [],
   "source": []
  },
  {
   "cell_type": "code",
   "execution_count": 1,
   "metadata": {},
   "outputs": [],
   "source": [
    "class LAADS_FILE:\n",
    "  \n",
    "  @classmethod\n",
    "  def generate(cls,file):\n",
    "\n",
    "    from datetime import datetime\n",
    "\n",
    "    cls.file = file\n",
    "    cls.date = datetime.strptime(cls.file.split('.')[1].split('T')[0],'%Y-%m-%d')\n",
    "\n",
    "    return cls\n"
   ]
  },
  {
   "cell_type": "code",
   "execution_count": 13,
   "metadata": {},
   "outputs": [
    {
     "data": {
      "text/plain": [
       "'./LAADS_querys/LAADS_query.2022-07-25T21_45.json'"
      ]
     },
     "execution_count": 13,
     "metadata": {},
     "output_type": "execute_result"
    }
   ],
   "source": [
    "import os\n",
    "\n",
    "# directorio\n",
    "dir = './LAADS_querys/'\n",
    "\n",
    "# archivos\n",
    "files = os.listdir(dir)\n",
    "\n",
    "# lista de achvos\n",
    "files_list = list(map( LAADS_FILE.generate, files))\n",
    "\n",
    "# fecha actualizacion\n",
    "max_date = max( list(map(lambda x: x.date,files_list)) )\n",
    "\n",
    "# archivo actual\n",
    "file_actualizado = dir + list(filter(lambda x: x.date == max_date, files_list))[0].file\n",
    "file_actualizado"
   ]
  }
 ],
 "metadata": {
  "kernelspec": {
   "display_name": "Python 3.9.12 (conda)",
   "language": "python",
   "name": "python3"
  },
  "language_info": {
   "codemirror_mode": {
    "name": "ipython",
    "version": 3
   },
   "file_extension": ".py",
   "mimetype": "text/x-python",
   "name": "python",
   "nbconvert_exporter": "python",
   "pygments_lexer": "ipython3",
   "version": "3.9.12"
  },
  "orig_nbformat": 4,
  "vscode": {
   "interpreter": {
    "hash": "6ef255e721dd64fdf6eaf70896ff004f72b4db06f2d8b224a9360363362e21e5"
   }
  }
 },
 "nbformat": 4,
 "nbformat_minor": 2
}
