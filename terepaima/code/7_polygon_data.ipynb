{
 "cells": [
  {
   "cell_type": "markdown",
   "metadata": {},
   "source": [
    "## Generación base polígono Terepaima\n",
    "\n",
    "**PROYECTO:** SISTEMA PARA EL SEGUIMIENTO DE ECOSISTEMAS VENEZOLANOS \\\n",
    "**AUTOR:** Javier Martinez"
   ]
  },
  {
   "cell_type": "code",
   "execution_count": 1,
   "metadata": {},
   "outputs": [],
   "source": [
    "import geopandas\n",
    "import json\n",
    "\n",
    "import os"
   ]
  },
  {
   "cell_type": "markdown",
   "metadata": {},
   "source": [
    "Cambienado directorio"
   ]
  },
  {
   "cell_type": "code",
   "execution_count": 2,
   "metadata": {},
   "outputs": [
    {
     "name": "stdout",
     "output_type": "stream",
     "text": [
      "> Directorio actual:  /media/javier/Compartida10/doctorado/gee-metview/terepaima/code\n",
      "> Directorio actual:  /media/javier/Compartida10/doctorado/gee-metview/terepaima\n"
     ]
    }
   ],
   "source": [
    "print('> Directorio actual: ', os.getcwd())  \n",
    "os.chdir('../')\n",
    "print('> Directorio actual: ', os.getcwd()) "
   ]
  },
  {
   "cell_type": "markdown",
   "metadata": {},
   "source": [
    "### Polígonos"
   ]
  },
  {
   "cell_type": "code",
   "execution_count": 3,
   "metadata": {},
   "outputs": [],
   "source": [
    "park_poligono = geopandas.read_file(f'./polygons/park/terepaima.shp')\n",
    "parque_rectangulo = geopandas.read_file(f'./polygons/rectangle/rectangulo_terepaima.shp')"
   ]
  },
  {
   "cell_type": "code",
   "execution_count": 4,
   "metadata": {},
   "outputs": [],
   "source": [
    "doc_park = json.loads( park_poligono.to_json() )\n",
    "doc_rectangulo = json.loads( parque_rectangulo.to_json() )"
   ]
  },
  {
   "cell_type": "code",
   "execution_count": 5,
   "metadata": {},
   "outputs": [],
   "source": [
    "documento = {'park':'terepaima',\n",
    "            'polygons':{'polygon':doc_park,\n",
    "                        'rectangle':doc_rectangulo\n",
    "                        }}"
   ]
  },
  {
   "cell_type": "markdown",
   "metadata": {},
   "source": [
    "### Conexión MONGODB"
   ]
  },
  {
   "cell_type": "markdown",
   "metadata": {},
   "source": [
    "Cambaindo directorio"
   ]
  },
  {
   "cell_type": "code",
   "execution_count": 6,
   "metadata": {},
   "outputs": [
    {
     "name": "stdout",
     "output_type": "stream",
     "text": [
      "> Directorio actual:  /media/javier/Compartida10/doctorado/gee-metview/terepaima\n",
      "> Directorio actual:  /media/javier/Compartida10/doctorado/gee-metview\n"
     ]
    }
   ],
   "source": [
    "print('> Directorio actual: ', os.getcwd())  \n",
    "os.chdir('../')\n",
    "print('> Directorio actual: ', os.getcwd()) "
   ]
  },
  {
   "cell_type": "code",
   "execution_count": 7,
   "metadata": {},
   "outputs": [],
   "source": [
    "# Configuracion\n",
    "import yaml\n",
    "\n",
    "# Definiendo variables\n",
    "with open('./config.yml') as stream:\n",
    "    config = yaml.safe_load(stream)"
   ]
  },
  {
   "cell_type": "code",
   "execution_count": 8,
   "metadata": {},
   "outputs": [],
   "source": [
    "import pymongo\n",
    "\n",
    "username = config['MONGO_USER']\n",
    "password = config['MONGO_PASSWORD']\n",
    "cluster = config['MONGO_CLUSTER']\n",
    "\n",
    "conn_str = f\"mongodb+srv://{username}:{password}@{cluster}.wsg1gnp.mongodb.net/?retryWrites=true&w=majority\"\n",
    "client = pymongo.MongoClient(conn_str, serverSelectionTimeoutMS=5000)"
   ]
  },
  {
   "cell_type": "code",
   "execution_count": 9,
   "metadata": {},
   "outputs": [
    {
     "data": {
      "text/plain": [
       "'SSEV'"
      ]
     },
     "execution_count": 9,
     "metadata": {},
     "output_type": "execute_result"
    }
   ],
   "source": [
    "# Creando base de datos\n",
    "db = client['SSEV']\n",
    "db.name"
   ]
  },
  {
   "cell_type": "code",
   "execution_count": 10,
   "metadata": {},
   "outputs": [],
   "source": [
    "# insertando coleccion\n",
    "coleccion = db['polygons']"
   ]
  },
  {
   "cell_type": "code",
   "execution_count": 11,
   "metadata": {},
   "outputs": [
    {
     "data": {
      "text/plain": [
       "<pymongo.results.UpdateResult at 0x7fcb3767b8e0>"
      ]
     },
     "execution_count": 11,
     "metadata": {},
     "output_type": "execute_result"
    }
   ],
   "source": [
    "# Insertando documentos\n",
    "coleccion.update_one({\"park\":documento.get('park') }, {\"$set\":documento}, upsert = True )"
   ]
  }
 ],
 "metadata": {
  "kernelspec": {
   "display_name": "Python 3.9.12 ('gee_metview')",
   "language": "python",
   "name": "python3"
  },
  "language_info": {
   "codemirror_mode": {
    "name": "ipython",
    "version": 3
   },
   "file_extension": ".py",
   "mimetype": "text/x-python",
   "name": "python",
   "nbconvert_exporter": "python",
   "pygments_lexer": "ipython3",
   "version": "3.9.12"
  },
  "orig_nbformat": 4,
  "vscode": {
   "interpreter": {
    "hash": "26bf2d9633d9e37c9680fd757e0da06b11ce6a2c041118b6ef388e430ba5d51e"
   }
  }
 },
 "nbformat": 4,
 "nbformat_minor": 2
}
